{
 "cells": [
  {
   "cell_type": "code",
   "execution_count": 1,
   "id": "4bd6bc83-ac5b-4b80-b2ca-e401900b0bee",
   "metadata": {},
   "outputs": [
    {
     "ename": "KeyError",
     "evalue": "'Japan'",
     "output_type": "error",
     "traceback": [
      "\u001b[1;31m---------------------------------------------------------------------------\u001b[0m",
      "\u001b[1;31mKeyError\u001b[0m                                  Traceback (most recent call last)",
      "\u001b[1;32m<ipython-input-1-56b8ce57099c>\u001b[0m in \u001b[0;36m<module>\u001b[1;34m\u001b[0m\n\u001b[0;32m      9\u001b[0m \u001b[1;33m\u001b[0m\u001b[0m\n\u001b[0;32m     10\u001b[0m \u001b[0mdf_place\u001b[0m \u001b[1;33m=\u001b[0m \u001b[0mdf\u001b[0m\u001b[1;33m.\u001b[0m\u001b[0mgroupby\u001b[0m\u001b[1;33m(\u001b[0m\u001b[1;33m[\u001b[0m\u001b[1;34m\"place\"\u001b[0m\u001b[1;33m]\u001b[0m\u001b[1;33m)\u001b[0m\u001b[1;33m\u001b[0m\u001b[1;33m\u001b[0m\u001b[0m\n\u001b[1;32m---> 11\u001b[1;33m \u001b[0mdf_japan\u001b[0m  \u001b[1;33m=\u001b[0m \u001b[0mdf_place\u001b[0m\u001b[1;33m.\u001b[0m\u001b[0mget_group\u001b[0m\u001b[1;33m(\u001b[0m\u001b[1;34m\"Japan\"\u001b[0m\u001b[1;33m)\u001b[0m\u001b[1;33m\u001b[0m\u001b[1;33m\u001b[0m\u001b[0m\n\u001b[0m\u001b[0;32m     12\u001b[0m \u001b[0mdf_japan\u001b[0m\u001b[1;33m.\u001b[0m\u001b[0mtail\u001b[0m\u001b[1;33m(\u001b[0m\u001b[1;36m2\u001b[0m\u001b[1;33m)\u001b[0m\u001b[1;33m\u001b[0m\u001b[1;33m\u001b[0m\u001b[0m\n\u001b[0;32m     13\u001b[0m \u001b[0mdf_japan\u001b[0m\u001b[1;33m.\u001b[0m\u001b[0mquantile\u001b[0m\u001b[1;33m(\u001b[0m\u001b[1;36m0.95\u001b[0m\u001b[1;33m)\u001b[0m\u001b[1;33m\u001b[0m\u001b[1;33m\u001b[0m\u001b[0m\n",
      "\u001b[1;32mc:\\users\\lg\\desktop\\summer1\\hw\\hw2\\ch2env\\lib\\site-packages\\pandas\\core\\groupby\\groupby.py\u001b[0m in \u001b[0;36mget_group\u001b[1;34m(self, name, obj)\u001b[0m\n\u001b[0;32m    843\u001b[0m         \u001b[0minds\u001b[0m \u001b[1;33m=\u001b[0m \u001b[0mself\u001b[0m\u001b[1;33m.\u001b[0m\u001b[0m_get_index\u001b[0m\u001b[1;33m(\u001b[0m\u001b[0mname\u001b[0m\u001b[1;33m)\u001b[0m\u001b[1;33m\u001b[0m\u001b[1;33m\u001b[0m\u001b[0m\n\u001b[0;32m    844\u001b[0m         \u001b[1;32mif\u001b[0m \u001b[1;32mnot\u001b[0m \u001b[0mlen\u001b[0m\u001b[1;33m(\u001b[0m\u001b[0minds\u001b[0m\u001b[1;33m)\u001b[0m\u001b[1;33m:\u001b[0m\u001b[1;33m\u001b[0m\u001b[1;33m\u001b[0m\u001b[0m\n\u001b[1;32m--> 845\u001b[1;33m             \u001b[1;32mraise\u001b[0m \u001b[0mKeyError\u001b[0m\u001b[1;33m(\u001b[0m\u001b[0mname\u001b[0m\u001b[1;33m)\u001b[0m\u001b[1;33m\u001b[0m\u001b[1;33m\u001b[0m\u001b[0m\n\u001b[0m\u001b[0;32m    846\u001b[0m \u001b[1;33m\u001b[0m\u001b[0m\n\u001b[0;32m    847\u001b[0m         \u001b[1;32mreturn\u001b[0m \u001b[0mobj\u001b[0m\u001b[1;33m.\u001b[0m\u001b[0m_take_with_is_copy\u001b[0m\u001b[1;33m(\u001b[0m\u001b[0minds\u001b[0m\u001b[1;33m,\u001b[0m \u001b[0maxis\u001b[0m\u001b[1;33m=\u001b[0m\u001b[0mself\u001b[0m\u001b[1;33m.\u001b[0m\u001b[0maxis\u001b[0m\u001b[1;33m)\u001b[0m\u001b[1;33m\u001b[0m\u001b[1;33m\u001b[0m\u001b[0m\n",
      "\u001b[1;31mKeyError\u001b[0m: 'Japan'"
     ]
    }
   ],
   "source": [
    "import pandas as pd\n",
    "import numpy as np\n",
    "import seaborn as sns\n",
    "import matplotlib.pyplot as plt\n",
    "%matplotlib inline\n",
    "\n",
    "df = pd.read_csv('data/parsed.csv', usecols=['time', 'title', 'place',\n",
    "            'magType', 'mag', 'alert','tsunami'])\n",
    "\n",
    "df_place = df.groupby([\"place\"])\n",
    "df_japan  = df_place.get_group(\"Japan\")\n",
    "df_japan.tail(2)\n",
    "df_japan.quantile(0.95)"
   ]
  },
  {
   "cell_type": "code",
   "execution_count": 2,
   "id": "2adb1ec2-2212-4343-82b3-cb9184ede9a5",
   "metadata": {},
   "outputs": [
    {
     "name": "stdout",
     "output_type": "stream",
     "text": [
      "     alert   mag magType                             place           time  \\\n",
      "0      NaN  1.35      ml             9km NE of Aguanga, CA  1539475168010   \n",
      "1      NaN  1.29      ml             9km NE of Aguanga, CA  1539475129610   \n",
      "2      NaN  3.42      ml             8km NE of Aguanga, CA  1539475062610   \n",
      "3      NaN  0.44      ml             9km NE of Aguanga, CA  1539474978070   \n",
      "4      NaN  2.16      md             10km NW of Avenal, CA  1539474716050   \n",
      "...    ...   ...     ...                               ...            ...   \n",
      "9327   NaN  0.62      md      9km ENE of Mammoth Lakes, CA  1537230228060   \n",
      "9328   NaN  1.00      ml               3km W of Julian, CA  1537230135130   \n",
      "9329   NaN  2.40      md  35km NNE of Hatillo, Puerto Rico  1537229908180   \n",
      "9330   NaN  1.10      ml             9km NE of Aguanga, CA  1537229545350   \n",
      "9331   NaN  0.66      ml             9km NE of Aguanga, CA  1537228864470   \n",
      "\n",
      "                                         title  tsunami  \n",
      "0                M 1.4 - 9km NE of Aguanga, CA        0  \n",
      "1                M 1.3 - 9km NE of Aguanga, CA        0  \n",
      "2                M 3.4 - 8km NE of Aguanga, CA        0  \n",
      "3                M 0.4 - 9km NE of Aguanga, CA        0  \n",
      "4                M 2.2 - 10km NW of Avenal, CA        0  \n",
      "...                                        ...      ...  \n",
      "9327      M 0.6 - 9km ENE of Mammoth Lakes, CA        0  \n",
      "9328               M 1.0 - 3km W of Julian, CA        0  \n",
      "9329  M 2.4 - 35km NNE of Hatillo, Puerto Rico        0  \n",
      "9330             M 1.1 - 9km NE of Aguanga, CA        0  \n",
      "9331             M 0.7 - 9km NE of Aguanga, CA        0  \n",
      "\n",
      "[9332 rows x 7 columns]\n"
     ]
    }
   ],
   "source": [
    "print(df)"
   ]
  },
  {
   "cell_type": "code",
   "execution_count": 3,
   "id": "310b350c-3ee6-4021-83d2-99807490cda9",
   "metadata": {},
   "outputs": [],
   "source": [
    "dn=pd.read_csv('data/parsed.csv')"
   ]
  },
  {
   "cell_type": "code",
   "execution_count": 4,
   "id": "4937de72-be8d-4a67-8555-1b54b752f4a0",
   "metadata": {},
   "outputs": [
    {
     "name": "stdout",
     "output_type": "stream",
     "text": [
      "     alert  cdi        code  \\\n",
      "0      NaN  NaN    37389218   \n",
      "1      NaN  NaN    37389202   \n",
      "2      NaN  4.4    37389194   \n",
      "3      NaN  NaN    37389186   \n",
      "4      NaN  NaN    73096941   \n",
      "...    ...  ...         ...   \n",
      "9327   NaN  NaN    73086771   \n",
      "9328   NaN  NaN    38063967   \n",
      "9329   NaN  NaN  2018261000   \n",
      "9330   NaN  NaN    38063959   \n",
      "9331   NaN  NaN    38063935   \n",
      "\n",
      "                                                 detail      dmin  felt  \\\n",
      "0     https://earthquake.usgs.gov/fdsnws/event/1/que...  0.008693   NaN   \n",
      "1     https://earthquake.usgs.gov/fdsnws/event/1/que...  0.020030   NaN   \n",
      "2     https://earthquake.usgs.gov/fdsnws/event/1/que...  0.021370  28.0   \n",
      "3     https://earthquake.usgs.gov/fdsnws/event/1/que...  0.026180   NaN   \n",
      "4     https://earthquake.usgs.gov/fdsnws/event/1/que...  0.077990   NaN   \n",
      "...                                                 ...       ...   ...   \n",
      "9327  https://earthquake.usgs.gov/fdsnws/event/1/que...  0.018060   NaN   \n",
      "9328  https://earthquake.usgs.gov/fdsnws/event/1/que...  0.030410   NaN   \n",
      "9329  https://earthquake.usgs.gov/fdsnws/event/1/que...  0.452600   NaN   \n",
      "9330  https://earthquake.usgs.gov/fdsnws/event/1/que...  0.018650   NaN   \n",
      "9331  https://earthquake.usgs.gov/fdsnws/event/1/que...  0.016980   NaN   \n",
      "\n",
      "        gap             ids   mag magType  ...     status           time  \\\n",
      "0      85.0    ,ci37389218,  1.35      ml  ...  automatic  1539475168010   \n",
      "1      79.0    ,ci37389202,  1.29      ml  ...  automatic  1539475129610   \n",
      "2      21.0    ,ci37389194,  3.42      ml  ...  automatic  1539475062610   \n",
      "3      39.0    ,ci37389186,  0.44      ml  ...  automatic  1539474978070   \n",
      "4     192.0    ,nc73096941,  2.16      md  ...  automatic  1539474716050   \n",
      "...     ...             ...   ...     ...  ...        ...            ...   \n",
      "9327  185.0    ,nc73086771,  0.62      md  ...   reviewed  1537230228060   \n",
      "9328   50.0    ,ci38063967,  1.00      ml  ...   reviewed  1537230135130   \n",
      "9329  276.0  ,pr2018261000,  2.40      md  ...   reviewed  1537229908180   \n",
      "9330   61.0    ,ci38063959,  1.10      ml  ...   reviewed  1537229545350   \n",
      "9331   39.0    ,ci38063935,  0.66      ml  ...   reviewed  1537228864470   \n",
      "\n",
      "                                         title tsunami        type  \\\n",
      "0                M 1.4 - 9km NE of Aguanga, CA       0  earthquake   \n",
      "1                M 1.3 - 9km NE of Aguanga, CA       0  earthquake   \n",
      "2                M 3.4 - 8km NE of Aguanga, CA       0  earthquake   \n",
      "3                M 0.4 - 9km NE of Aguanga, CA       0  earthquake   \n",
      "4                M 2.2 - 10km NW of Avenal, CA       0  earthquake   \n",
      "...                                        ...     ...         ...   \n",
      "9327      M 0.6 - 9km ENE of Mammoth Lakes, CA       0  earthquake   \n",
      "9328               M 1.0 - 3km W of Julian, CA       0  earthquake   \n",
      "9329  M 2.4 - 35km NNE of Hatillo, Puerto Rico       0  earthquake   \n",
      "9330             M 1.1 - 9km NE of Aguanga, CA       0  earthquake   \n",
      "9331             M 0.7 - 9km NE of Aguanga, CA       0  earthquake   \n",
      "\n",
      "                                                  types     tz        updated  \\\n",
      "0            ,geoserve,nearby-cities,origin,phase-data, -480.0  1539475395144   \n",
      "1            ,geoserve,nearby-cities,origin,phase-data, -480.0  1539475253925   \n",
      "2     ,dyfi,focal-mechanism,geoserve,nearby-cities,o... -480.0  1539536756176   \n",
      "3            ,geoserve,nearby-cities,origin,phase-data, -480.0  1539475196167   \n",
      "4     ,geoserve,nearby-cities,origin,phase-data,scit... -480.0  1539477547926   \n",
      "...                                                 ...    ...            ...   \n",
      "9327         ,geoserve,nearby-cities,origin,phase-data, -480.0  1537285598315   \n",
      "9328  ,geoserve,nearby-cities,origin,phase-data,scit... -480.0  1537276800970   \n",
      "9329                       ,geoserve,origin,phase-data, -240.0  1537243777410   \n",
      "9330  ,focal-mechanism,geoserve,nearby-cities,origin... -480.0  1537230211640   \n",
      "9331  ,focal-mechanism,geoserve,nearby-cities,origin... -480.0  1537305830770   \n",
      "\n",
      "                                                    url parsed_place  \n",
      "0     https://earthquake.usgs.gov/earthquakes/eventp...   California  \n",
      "1     https://earthquake.usgs.gov/earthquakes/eventp...   California  \n",
      "2     https://earthquake.usgs.gov/earthquakes/eventp...   California  \n",
      "3     https://earthquake.usgs.gov/earthquakes/eventp...   California  \n",
      "4     https://earthquake.usgs.gov/earthquakes/eventp...   California  \n",
      "...                                                 ...          ...  \n",
      "9327  https://earthquake.usgs.gov/earthquakes/eventp...   California  \n",
      "9328  https://earthquake.usgs.gov/earthquakes/eventp...   California  \n",
      "9329  https://earthquake.usgs.gov/earthquakes/eventp...  Puerto Rico  \n",
      "9330  https://earthquake.usgs.gov/earthquakes/eventp...   California  \n",
      "9331  https://earthquake.usgs.gov/earthquakes/eventp...   California  \n",
      "\n",
      "[9332 rows x 27 columns]\n"
     ]
    }
   ],
   "source": [
    "print(dn)"
   ]
  },
  {
   "cell_type": "code",
   "execution_count": 6,
   "id": "d2b87ab2-44f2-4217-a4a5-ed6436addafe",
   "metadata": {},
   "outputs": [
    {
     "data": {
      "text/html": [
       "<div>\n",
       "<style scoped>\n",
       "    .dataframe tbody tr th:only-of-type {\n",
       "        vertical-align: middle;\n",
       "    }\n",
       "\n",
       "    .dataframe tbody tr th {\n",
       "        vertical-align: top;\n",
       "    }\n",
       "\n",
       "    .dataframe thead th {\n",
       "        text-align: right;\n",
       "    }\n",
       "</style>\n",
       "<table border=\"1\" class=\"dataframe\">\n",
       "  <thead>\n",
       "    <tr style=\"text-align: right;\">\n",
       "      <th></th>\n",
       "      <th>mag</th>\n",
       "      <th>magType</th>\n",
       "      <th>title</th>\n",
       "    </tr>\n",
       "    <tr>\n",
       "      <th>place</th>\n",
       "      <th></th>\n",
       "      <th></th>\n",
       "      <th></th>\n",
       "    </tr>\n",
       "  </thead>\n",
       "  <tbody>\n",
       "    <tr>\n",
       "      <th>160km NNW of Nago, Japan</th>\n",
       "      <td>4.6</td>\n",
       "      <td>mb</td>\n",
       "      <td>M 4.6 - 160km NNW of Nago, Japan</td>\n",
       "    </tr>\n",
       "    <tr>\n",
       "      <th>7km ESE of Asahi, Japan</th>\n",
       "      <td>5.2</td>\n",
       "      <td>mww</td>\n",
       "      <td>M 5.2 - 7km ESE of Asahi, Japan</td>\n",
       "    </tr>\n",
       "    <tr>\n",
       "      <th>14km E of Tomakomai, Japan</th>\n",
       "      <td>4.5</td>\n",
       "      <td>mwr</td>\n",
       "      <td>M 4.5 - 14km E of Tomakomai, Japan</td>\n",
       "    </tr>\n",
       "    <tr>\n",
       "      <th>139km WSW of Naze, Japan</th>\n",
       "      <td>4.7</td>\n",
       "      <td>mb</td>\n",
       "      <td>M 4.7 - 139km WSW of Naze, Japan</td>\n",
       "    </tr>\n",
       "    <tr>\n",
       "      <th>53km ESE of Kamaishi, Japan</th>\n",
       "      <td>4.6</td>\n",
       "      <td>mb</td>\n",
       "      <td>M 4.6 - 53km ESE of Kamaishi, Japan</td>\n",
       "    </tr>\n",
       "  </tbody>\n",
       "</table>\n",
       "</div>"
      ],
      "text/plain": [
       "                             mag magType                                title\n",
       "place                                                                        \n",
       "160km NNW of Nago, Japan     4.6      mb     M 4.6 - 160km NNW of Nago, Japan\n",
       "7km ESE of Asahi, Japan      5.2     mww      M 5.2 - 7km ESE of Asahi, Japan\n",
       "14km E of Tomakomai, Japan   4.5     mwr   M 4.5 - 14km E of Tomakomai, Japan\n",
       "139km WSW of Naze, Japan     4.7      mb     M 4.7 - 139km WSW of Naze, Japan\n",
       "53km ESE of Kamaishi, Japan  4.6      mb  M 4.6 - 53km ESE of Kamaishi, Japan"
      ]
     },
     "execution_count": 6,
     "metadata": {},
     "output_type": "execute_result"
    }
   ],
   "source": [
    "\n",
    "df.set_index('place').filter(like='Japan', axis=0).filter(items=['mag', 'magType', 'title']).head()"
   ]
  },
  {
   "cell_type": "code",
   "execution_count": null,
   "id": "0fd6f509-11bc-4047-a8b0-74bfef4e794e",
   "metadata": {},
   "outputs": [],
   "source": []
  }
 ],
 "metadata": {
  "kernelspec": {
   "display_name": "Python 3",
   "language": "python",
   "name": "python3"
  },
  "language_info": {
   "codemirror_mode": {
    "name": "ipython",
    "version": 3
   },
   "file_extension": ".py",
   "mimetype": "text/x-python",
   "name": "python",
   "nbconvert_exporter": "python",
   "pygments_lexer": "ipython3",
   "version": "3.8.5"
  }
 },
 "nbformat": 4,
 "nbformat_minor": 5
}
