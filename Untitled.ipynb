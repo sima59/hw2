{
 "cells": [
  {
   "cell_type": "code",
   "execution_count": null,
   "id": "cb6ed2e9-9f30-40af-a764-65d5d35d3670",
   "metadata": {},
   "outputs": [],
   "source": [
    "df.loc[\n",
    "    (df.place.str.contains('Japan')) & (df.alert.notnull()),\n",
    "    ['alert', 'mag', 'magType', 'title', 'tsunami', 'type']\n",
    "]"
   ]
  },
  {
   "cell_type": "code",
   "execution_count": 2,
   "id": "a6eca948-7eb8-4464-8f90-ac2fca4b3817",
   "metadata": {},
   "outputs": [],
   "source": [
    "import pandas as pd\n",
    "\n",
    "df = pd.read_csv(\n",
    "    'data/earthquakes.csv', \n",
    "    usecols=['time', 'title', 'place', 'magType', 'mag', 'alert', 'tsunami']\n",
    ")"
   ]
  },
  {
   "cell_type": "code",
   "execution_count": 3,
   "id": "ec8e5dfe-d988-4381-b1e1-e1e0f3281223",
   "metadata": {},
   "outputs": [
    {
     "data": {
      "text/plain": [
       "array(['Afghanistan', 'Alaska', 'Argentina', 'Arizona', 'Arkansas',\n",
       "       'Australia', 'Azerbaijan', 'B.C., MX', 'Barbuda', 'Bolivia',\n",
       "       'Bonaire, Saint Eustatius and Saba ', 'British Virgin Islands',\n",
       "       'Burma', 'CA', 'California', 'Canada', 'Chile', 'China',\n",
       "       'Christmas Island', 'Colombia', 'Colorado', 'Costa Rica',\n",
       "       'Dominican Republic', 'East Timor', 'Ecuador', 'Ecuador region',\n",
       "       'El Salvador', 'Fiji', 'Greece', 'Greenland', 'Guam', 'Guatemala',\n",
       "       'Haiti', 'Hawaii', 'Honduras', 'Idaho', 'Illinois', 'India',\n",
       "       'Indonesia', 'Iran', 'Iraq', 'Italy', 'Jamaica', 'Japan', 'Kansas',\n",
       "       'Kentucky', 'Kyrgyzstan', 'Martinique', 'Mauritius', 'Mayotte',\n",
       "       'Mexico', 'Missouri', 'Montana', 'NV', 'Nevada', 'New Caledonia',\n",
       "       'New Hampshire', 'New Mexico', 'New Zealand', 'Nicaragua',\n",
       "       'North Carolina', 'Northern Mariana Islands', 'Oklahoma', 'Oregon',\n",
       "       'Pakistan', 'Papua New Guinea', 'Peru', 'Philippines',\n",
       "       'Puerto Rico', 'Romania', 'Russia', 'Saint Helena',\n",
       "       'Solomon Islands', 'Somalia', 'South Africa', 'South Carolina',\n",
       "       'South Georgia and the South Sandwich Islands',\n",
       "       'South Sandwich Islands', 'Taiwan', 'Tajikistan', 'Tennessee',\n",
       "       'Texas', 'Tonga', 'Turkey', 'U.S. Virgin Islands', 'Utah',\n",
       "       'Uzbekistan', 'Vanuatu', 'Vermont', 'Washington', 'Wyoming',\n",
       "       'Yemen', nan], dtype=object)"
      ]
     },
     "execution_count": 3,
     "metadata": {},
     "output_type": "execute_result"
    }
   ],
   "source": [
    "df.place.str.extract(r', (.*$)')[0].sort_values().unique()"
   ]
  },
  {
   "cell_type": "code",
   "execution_count": null,
   "id": "b58d4ed7-3cd3-43e0-b74c-b0144e3d8bf8",
   "metadata": {},
   "outputs": [],
   "source": []
  }
 ],
 "metadata": {
  "kernelspec": {
   "display_name": "Python 3",
   "language": "python",
   "name": "python3"
  },
  "language_info": {
   "codemirror_mode": {
    "name": "ipython",
    "version": 3
   },
   "file_extension": ".py",
   "mimetype": "text/x-python",
   "name": "python",
   "nbconvert_exporter": "python",
   "pygments_lexer": "ipython3",
   "version": "3.8.5"
  }
 },
 "nbformat": 4,
 "nbformat_minor": 5
}
